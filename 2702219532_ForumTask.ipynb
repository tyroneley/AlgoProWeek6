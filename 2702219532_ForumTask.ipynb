{
 "cells": [
  {
   "cell_type": "code",
   "execution_count": 1,
   "metadata": {},
   "outputs": [],
   "source": [
    "lloyd = {\n",
    "    'name': \"Lloyd\",\n",
    "    'homework': [],\n",
    "    'quizzes': [],\n",
    "    'tests': []\n",
    "}\n",
    "alice = {\n",
    "    'name': \"Alice\",\n",
    "    'homework': [],\n",
    "    'quizzes': [],\n",
    "    'tests': []\n",
    "}\n",
    "tyler = {\n",
    "    'name': \"Tyler\",\n",
    "    'homework': [],\n",
    "    'quizzes': [],\n",
    "    'tests': []\n",
    "}"
   ]
  },
  {
   "cell_type": "code",
   "execution_count": 2,
   "metadata": {},
   "outputs": [],
   "source": [
    "lloyd = {\n",
    " \"name\": \"Lloyd\",\n",
    " \"homework\": [90.0,97.0,75.0,92.0],\n",
    " \"quizzes\": [88.0,40.0,94.0],\n",
    " \"tests\": [75.0,90.0]\n",
    "}\n",
    "alice = {\n",
    " \"name\": \"Alice\",\n",
    " \"homework\": [100.0, 92.0, 98.0, 100.0],\n",
    " \"quizzes\": [82.0, 83.0, 91.0],\n",
    " \"tests\": [89.0, 97.0]\n",
    "}\n",
    "tyler = {\n",
    " \"name\": \"Tyler\",\n",
    " \"homework\": [0.0, 87.0, 75.0, 22.0],\n",
    " \"quizzes\": [0.0, 75.0, 78.0],\n",
    " \"tests\": [100.0, 100.0]\n",
    "}"
   ]
  },
  {
   "cell_type": "code",
   "execution_count": 3,
   "metadata": {},
   "outputs": [
    {
     "name": "stdout",
     "output_type": "stream",
     "text": [
      "{'name': 'Lloyd', 'homework': [90.0, 97.0, 75.0, 92.0], 'quizzes': [88.0, 40.0, 94.0], 'tests': [75.0, 90.0]}\n",
      "{'name': 'Alice', 'homework': [100.0, 92.0, 98.0, 100.0], 'quizzes': [82.0, 83.0, 91.0], 'tests': [89.0, 97.0]}\n",
      "{'name': 'Tyler', 'homework': [0.0, 87.0, 75.0, 22.0], 'quizzes': [0.0, 75.0, 78.0], 'tests': [100.0, 100.0]}\n"
     ]
    }
   ],
   "source": [
    "students = [lloyd, alice, tyler]\n",
    "for student in students:\n",
    "    print(student)"
   ]
  },
  {
   "cell_type": "code",
   "execution_count": 4,
   "metadata": {},
   "outputs": [
    {
     "name": "stdout",
     "output_type": "stream",
     "text": [
      "88.0\n"
     ]
    }
   ],
   "source": [
    "def average(numbers):\n",
    "    total = float(sum(numbers))\n",
    "    result = total // len(numbers)\n",
    "    return result\n",
    "\n",
    "print(average(lloyd[\"homework\"]))"
   ]
  },
  {
   "cell_type": "code",
   "execution_count": 5,
   "metadata": {},
   "outputs": [
    {
     "name": "stdout",
     "output_type": "stream",
     "text": [
      "80.19999999999999\n"
     ]
    }
   ],
   "source": [
    "def get_average(student):\n",
    "    homework = average(student[\"homework\"])\n",
    "    quizzes = average(student[\"quizzes\"])\n",
    "    tests = average(student[\"tests\"])\n",
    "    weighted_average = (homework * 0.1) + (quizzes * 0.3) + (tests * 0.6)\n",
    "    return weighted_average\n",
    "\n",
    "print(get_average(lloyd))"
   ]
  },
  {
   "cell_type": "code",
   "execution_count": 6,
   "metadata": {},
   "outputs": [],
   "source": [
    "def get_letter_grade(score):\n",
    "    if score > 90:\n",
    "        return \"A\"\n",
    "    elif score > 80:\n",
    "        return \"B\"\n",
    "    elif score > 70:\n",
    "        return \"C\"\n",
    "    elif score > 60:\n",
    "        return \"D\"\n",
    "    else: return \"F\"\n"
   ]
  },
  {
   "cell_type": "code",
   "execution_count": 7,
   "metadata": {},
   "outputs": [
    {
     "name": "stdout",
     "output_type": "stream",
     "text": [
      "B\n"
     ]
    }
   ],
   "source": [
    "lloyd_average = get_average(lloyd)\n",
    "print(get_letter_grade(lloyd_average))"
   ]
  },
  {
   "cell_type": "code",
   "execution_count": 8,
   "metadata": {},
   "outputs": [
    {
     "name": "stdout",
     "output_type": "stream",
     "text": [
      "83.0\n",
      "B\n"
     ]
    }
   ],
   "source": [
    "students_list = [lloyd, tyler, alice]\n",
    "\n",
    "def get_class_average(students):\n",
    "    results = []\n",
    "    for student in students:\n",
    "        score = get_average(student)\n",
    "        results.append(score)\n",
    "    class_average = average(results)\n",
    "    return class_average\n",
    "\n",
    "class_avg = get_class_average(students_list)\n",
    "print(class_avg)\n",
    "class_grade = get_letter_grade(class_avg)\n",
    "print(class_grade)"
   ]
  },
  {
   "cell_type": "code",
   "execution_count": 9,
   "metadata": {},
   "outputs": [
    {
     "name": "stdout",
     "output_type": "stream",
     "text": [
      "100 is an invalid course number.\n"
     ]
    }
   ],
   "source": [
    "course_keys = ('COP 2510', 'EGN 3000L', 'MAC 2281', 'MUH 3016', 'PHY 2048')\n",
    "course_name = {\n",
    "    'COP 2510': \"Programming Concepts\",\n",
    "    'EGN 3000L': \"Foundations of Engineering Lab\",\n",
    "    'MAC 2281': \"Calculus I\",\n",
    "    'MUH 3016': \"Survey of Jazz\",\n",
    "    'PHY 2048': \"General Physics I\",\n",
    "}\n",
    "course_instructor = {\n",
    "    'COP 2510': \"Z. Beasley\",\n",
    "    'EGN 3000L': \"J. Anderson\",\n",
    "    'MAC 2281': \"A. Makaryus\",\n",
    "    'MUH 3016': \"A. Wilkins\",\n",
    "    'PHY 2048': \"G. Pradhan\",\n",
    "}\n",
    "course_times = {\n",
    "    'COP 2510': \"MW 12:30pm – 1:45pm\",\n",
    "    'EGN 3000L': \"TR 11:00am – 12:15pm\",\n",
    "    'MAC 2281': \"MW 9:30am – 10:45am\",\n",
    "    'MUH 3016': \"online asynchronous\",\n",
    "    'PHY 2048': \"TR 5:00pm – 6:15pm\",\n",
    "}\n",
    "\n",
    "user_input = input()\n",
    "course_found = False\n",
    "\n",
    "for tuple in course_keys:\n",
    "    if tuple == user_input:\n",
    "        course_found = True\n",
    "\n",
    "if course_found:\n",
    "    print(\"Course Name: \" + course_name[user_input] + \" |\", \"Course Instructor: \" + course_instructor[user_input] + \" |\", \"Class Time: \" + course_times[user_input])\n",
    "else:\n",
    "    print(user_input + \" is an invalid course number.\")"
   ]
  },
  {
   "cell_type": "code",
   "execution_count": 10,
   "metadata": {},
   "outputs": [
    {
     "name": "stdout",
     "output_type": "stream",
     "text": [
      "200 is an invalid course number.\n"
     ]
    }
   ],
   "source": [
    "course_keys = ('COP 2510', 'EGN 3000L', 'MAC 2281', 'MUH 3016', 'PHY 2048')\n",
    "course_name = {\n",
    "    'COP 2510': \"Programming Concepts\",\n",
    "    'EGN 3000L': \"Foundations of Engineering Lab\",\n",
    "    'MAC 2281': \"Calculus I\",\n",
    "    'MUH 3016': \"Survey of Jazz\",\n",
    "    'PHY 2048': \"General Physics I\",\n",
    "}\n",
    "course_instructor = {\n",
    "    'COP 2510': \"Z. Beasley\",\n",
    "    'EGN 3000L': \"J. Anderson\",\n",
    "    'MAC 2281': \"A. Makaryus\",\n",
    "    'MUH 3016': \"A. Wilkins\",\n",
    "    'PHY 2048': \"G. Pradhan\",\n",
    "}\n",
    "course_times = {\n",
    "    'COP 2510': \"MW 12:30pm – 1:45pm\",\n",
    "    'EGN 3000L': \"TR 11:00am – 12:15pm\",\n",
    "    'MAC 2281': \"MW 9:30am – 10:45am\",\n",
    "    'MUH 3016': \"online asynchronous\",\n",
    "    'PHY 2048': \"TR 5:00pm – 6:15pm\",\n",
    "}\n",
    "\n",
    "user_input = input()\n",
    "course_found = False\n",
    "\n",
    "for tuple in course_keys:\n",
    "    if tuple == user_input:\n",
    "        course_found = True\n",
    "\n",
    "if course_found:\n",
    "    print(\"Course Name: \" + course_name[user_input] + \" |\", \"Course Instructor: \" + course_instructor[user_input] + \" |\", \"Class Time: \" + course_times[user_input])\n",
    "else:\n",
    "    print(user_input + \" is an invalid course number.\")"
   ]
  },
  {
   "cell_type": "code",
   "execution_count": 12,
   "metadata": {},
   "outputs": [
    {
     "name": "stdout",
     "output_type": "stream",
     "text": [
      "Enter the sales for Sunday\n",
      "Invalid input. Re-enter the sales for Sunday\n",
      "Invalid input. Re-enter the sales for Sunday\n",
      "Enter the sales for Monday\n",
      "Enter the sales for Tuesday\n",
      "Enter the sales for Wednesday\n",
      "Enter the sales for Thursday\n",
      "Enter the sales for Friday\n",
      "Enter the sales for Saturday\n",
      "Invalid input. Re-enter the sales for Saturday\n",
      "Invalid input. Re-enter the sales for Saturday\n",
      "The total sales is $3,250.00\n",
      "The minimum sale amount was: $50.00. The maximum amount of sales was: $1,000.00\n"
     ]
    }
   ],
   "source": [
    "days = ('Sunday', 'Monday', 'Tuesday', 'Wednesday', 'Thursday', 'Friday', 'Saturday')\n",
    "data = []\n",
    "\n",
    "for day in days:\n",
    "    inputting = True\n",
    "    print(\"Enter the sales for \" + day)\n",
    "    while inputting:\n",
    "        try:\n",
    "            user_input = input()\n",
    "            sales = int(user_input)\n",
    "            if sales <= 0:\n",
    "                print(\"Invalid input. Re-enter the sales for \" + day)\n",
    "            else:\n",
    "                inputting = False\n",
    "        except ValueError:\n",
    "            print(\"Invalid input. Re-enter the sales for \" + day)\n",
    "    data.append(sales)\n",
    "        \n",
    "total_sales = \"{:,.2f}\".format(sum(data))\n",
    "min_sales = \"{:,.2f}\".format(min(data))\n",
    "max_sales = \"{:,.2f}\".format(max(data))\n",
    "\n",
    "print(\"The total sales is $\" + total_sales)\n",
    "print(\"The minimum sale amount was: $\" + min_sales + \". The maximum amount of sales was: $\" + max_sales)"
   ]
  },
  {
   "cell_type": "code",
   "execution_count": 24,
   "metadata": {},
   "outputs": [
    {
     "name": "stdout",
     "output_type": "stream",
     "text": [
      ".... . .-.. .-.. ---\n"
     ]
    }
   ],
   "source": [
    "morse_code = (\n",
    "        ('A', '.-'), ('B', '-...'), ('C', '-.-.'), ('D', '-..'), ('E', '.'), ('F', '..-.'), ('G', '--.'),\n",
    "        ('H', '....'), ('I', '..'), ('J', '.---'), ('K', '-.-'), ('L', '.-..'), ('M', '--'), ('N', '-.'),\n",
    "        ('O', '---'), ('P', '.--.'), ('Q', '--.-'), ('R', '.-.'), ('S', '...'), ('T', '-'), ('U', '..-'),\n",
    "        ('V', '...-'), ('W', '.--'), ('X', '-..-'), ('Y', '-.--'), ('Z', '--..'),\n",
    "        ('0', '-----'), ('1', '.----'), ('2', '..---'), ('3', '...--'), ('4', '....-'), ('5', '.....'),\n",
    "        ('6', '-....'), ('7', '--...'), ('8', '---..'), ('9', '----.'),\n",
    "        (' ', ' ')\n",
    "    )\n",
    "\n",
    "converted_morse_code = ''\n",
    "\n",
    "string_to_convert = input(\"Enter the string to be converted to Morse code:\")\n",
    "\n",
    "for character in string_to_convert.upper():\n",
    "    for letter, morse in morse_code:\n",
    "        if character == letter:\n",
    "            converted_morse_code += morse + ' '\n",
    "            break\n",
    "converted_morse_code = converted_morse_code.strip()\n",
    "\n",
    "print(converted_morse_code)"
   ]
  }
 ],
 "metadata": {
  "kernelspec": {
   "display_name": "Python 3",
   "language": "python",
   "name": "python3"
  },
  "language_info": {
   "codemirror_mode": {
    "name": "ipython",
    "version": 3
   },
   "file_extension": ".py",
   "mimetype": "text/x-python",
   "name": "python",
   "nbconvert_exporter": "python",
   "pygments_lexer": "ipython3",
   "version": "3.11.5"
  }
 },
 "nbformat": 4,
 "nbformat_minor": 2
}
